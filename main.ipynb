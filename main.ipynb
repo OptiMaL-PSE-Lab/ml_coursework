{
 "cells": [
  {
   "cell_type": "code",
   "execution_count": 5,
   "metadata": {},
   "outputs": [
    {
     "name": "stdout",
     "output_type": "stream",
     "text": [
      "Starting to mesh 2022_09_12_15_56_03\n"
     ]
    },
    {
     "ename": "FileNotFoundError",
     "evalue": "[Errno 2] No such file or directory: '05-cavity-curve'",
     "output_type": "error",
     "traceback": [
      "\u001b[0;31m---------------------------------------------------------------------------\u001b[0m",
      "\u001b[0;31mFileNotFoundError\u001b[0m                         Traceback (most recent call last)",
      "Cell \u001b[0;32mIn [5], line 1\u001b[0m\n\u001b[0;32m----> 1\u001b[0m \u001b[38;5;28;01mfrom\u001b[39;00m \u001b[38;5;21;01mutils\u001b[39;00m \u001b[38;5;28;01mimport\u001b[39;00m eval_cfd\n\u001b[1;32m      2\u001b[0m eval_cfd(\u001b[38;5;241m0.002\u001b[39m,\u001b[38;5;241m4\u001b[39m,\u001b[38;5;241m0.4\u001b[39m,\u001b[38;5;241m4\u001b[39m,\u001b[38;5;241m0.2\u001b[39m)\n",
      "File \u001b[0;32m~/ml_coursework/ml_coursework/utils.py:182\u001b[0m\n\u001b[1;32m    179\u001b[0m     N \u001b[39m=\u001b[39m calculate_N(value, time,newcase)\n\u001b[1;32m    180\u001b[0m     \u001b[39mreturn\u001b[39;00m N\n\u001b[0;32m--> 182\u001b[0m eval_cfd(\u001b[39m0.002\u001b[39;49m,\u001b[39m3\u001b[39;49m,\u001b[39m0.4\u001b[39;49m, \u001b[39m5\u001b[39;49m,\u001b[39m0.0\u001b[39;49m)\n",
      "File \u001b[0;32m~/ml_coursework/ml_coursework/utils.py:175\u001b[0m, in \u001b[0;36meval_cfd\u001b[0;34m(a, f, p1, p2, p3)\u001b[0m\n\u001b[1;32m    173\u001b[0m \u001b[39mprint\u001b[39m(\u001b[39m'\u001b[39m\u001b[39mStarting to mesh \u001b[39m\u001b[39m'\u001b[39m\u001b[39m+\u001b[39midentifier)\n\u001b[1;32m    174\u001b[0m newcase \u001b[39m=\u001b[39m \u001b[39m\"\u001b[39m\u001b[39moutputs/\u001b[39m\u001b[39m\"\u001b[39m \u001b[39m+\u001b[39m identifier\n\u001b[0;32m--> 175\u001b[0m build_mesh(p1,p2,p3,path\u001b[39m=\u001b[39;49mnewcase)\n\u001b[1;32m    176\u001b[0m vel \u001b[39m=\u001b[39m vel_calc(\u001b[39m50\u001b[39m)\n\u001b[1;32m    177\u001b[0m parse_conditions(newcase, a, f, vel)\n",
      "File \u001b[0;32m~/ml_coursework/ml_coursework/../mesh_construction/construct_mesh.py:110\u001b[0m, in \u001b[0;36mbuild_mesh\u001b[0;34m(p1, p2, p3, path)\u001b[0m\n\u001b[1;32m    109\u001b[0m \u001b[39mdef\u001b[39;00m \u001b[39mbuild_mesh\u001b[39m(p1, p2,p3,path):\n\u001b[0;32m--> 110\u001b[0m     shutil\u001b[39m.\u001b[39;49mcopytree(\u001b[39m\"\u001b[39;49m\u001b[39m05-cavity-curve\u001b[39;49m\u001b[39m\"\u001b[39;49m, path)\n\u001b[1;32m    111\u001b[0m     l11, l12, l21, l22,x1,y1,x2,y2 \u001b[39m=\u001b[39m build_arrays(p1, p2,p3)\n\u001b[1;32m    113\u001b[0m     plt\u001b[39m.\u001b[39mfigure()\n",
      "File \u001b[0;32m/usr/lib/python3.8/shutil.py:555\u001b[0m, in \u001b[0;36mcopytree\u001b[0;34m(src, dst, symlinks, ignore, copy_function, ignore_dangling_symlinks, dirs_exist_ok)\u001b[0m\n\u001b[1;32m    518\u001b[0m \u001b[39m\"\"\"Recursively copy a directory tree and return the destination directory.\u001b[39;00m\n\u001b[1;32m    519\u001b[0m \n\u001b[1;32m    520\u001b[0m \u001b[39mdirs_exist_ok dictates whether to raise an exception in case dst or any\u001b[39;00m\n\u001b[0;32m   (...)\u001b[0m\n\u001b[1;32m    552\u001b[0m \n\u001b[1;32m    553\u001b[0m \u001b[39m\"\"\"\u001b[39;00m\n\u001b[1;32m    554\u001b[0m sys\u001b[39m.\u001b[39maudit(\u001b[39m\"\u001b[39m\u001b[39mshutil.copytree\u001b[39m\u001b[39m\"\u001b[39m, src, dst)\n\u001b[0;32m--> 555\u001b[0m \u001b[39mwith\u001b[39;00m os\u001b[39m.\u001b[39;49mscandir(src) \u001b[39mas\u001b[39;00m itr:\n\u001b[1;32m    556\u001b[0m     entries \u001b[39m=\u001b[39m \u001b[39mlist\u001b[39m(itr)\n\u001b[1;32m    557\u001b[0m \u001b[39mreturn\u001b[39;00m _copytree(entries\u001b[39m=\u001b[39mentries, src\u001b[39m=\u001b[39msrc, dst\u001b[39m=\u001b[39mdst, symlinks\u001b[39m=\u001b[39msymlinks,\n\u001b[1;32m    558\u001b[0m                  ignore\u001b[39m=\u001b[39mignore, copy_function\u001b[39m=\u001b[39mcopy_function,\n\u001b[1;32m    559\u001b[0m                  ignore_dangling_symlinks\u001b[39m=\u001b[39mignore_dangling_symlinks,\n\u001b[1;32m    560\u001b[0m                  dirs_exist_ok\u001b[39m=\u001b[39mdirs_exist_ok)\n",
      "\u001b[0;31mFileNotFoundError\u001b[0m: [Errno 2] No such file or directory: '05-cavity-curve'"
     ]
    }
   ],
   "source": [
    "from ml_coursework.utils import eval_cfd\n",
    "eval_cfd(0.002,4,0.4,4,0.2)"
   ]
  },
  {
   "cell_type": "code",
   "execution_count": null,
   "metadata": {},
   "outputs": [],
   "source": []
  }
 ],
 "metadata": {
  "kernelspec": {
   "display_name": "Python 3.8.9 64-bit",
   "language": "python",
   "name": "python3"
  },
  "language_info": {
   "codemirror_mode": {
    "name": "ipython",
    "version": 3
   },
   "file_extension": ".py",
   "mimetype": "text/x-python",
   "name": "python",
   "nbconvert_exporter": "python",
   "pygments_lexer": "ipython3",
   "version": "3.8.10"
  },
  "vscode": {
   "interpreter": {
    "hash": "31f2aee4e71d21fbe5cf8b01ff0e069b9275f58929596ceb00d14d90e3e16cd6"
   }
  }
 },
 "nbformat": 4,
 "nbformat_minor": 2
}
